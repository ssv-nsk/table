{
  "nbformat": 4,
  "nbformat_minor": 0,
  "metadata": {
    "colab": {
      "name": "Курсовой проект.ipynb",
      "version": "0.3.2",
      "provenance": []
    },
    "kernelspec": {
      "name": "python3",
      "display_name": "Python 3"
    },
    "accelerator": "TPU"
  },
  "cells": [
    {
      "metadata": {
        "id": "eIc0C0mUW7x8",
        "colab_type": "code",
        "colab": {}
      },
      "cell_type": "code",
      "source": [
        "import numpy as np\n",
        "import pandas as pd\n",
        "import matplotlib.pyplot as plt\n",
        "%matplotlib inline\n",
        "%config InlineBackend.figure_format = 'svg'"
      ],
      "execution_count": 0,
      "outputs": []
    },
    {
      "metadata": {
        "id": "cqMrDmGVYj-C",
        "colab_type": "code",
        "colab": {
          "base_uri": "https://localhost:8080/",
          "height": 219
        },
        "outputId": "40993cff-c30e-487f-b4f6-96acb71181f4"
      },
      "cell_type": "code",
      "source": [
        "!wget https://github.com/ssv273/Python_for_Data_Science/blob/master/test.csv\n",
        "!wget https://github.com/ssv273/Python_for_Data_Science/blob/master/train.csv"
      ],
      "execution_count": 3,
      "outputs": [
        {
          "output_type": "stream",
          "text": [
            "--2019-03-27 10:31:38--  https://github.com/ssv273/Python_for_Data_Science/blob/master/test.csv\n",
            "Resolving github.com (github.com)... 192.30.253.113, 192.30.253.112\n",
            "Connecting to github.com (github.com)|192.30.253.113|:443... connected.\n",
            "HTTP request sent, awaiting response... 200 OK\n",
            "Length: unspecified [text/html]\n",
            "Saving to: ‘test.csv.3’\n",
            "\n",
            "test.csv.3              [  <=>               ]   3.34M  16.3MB/s    in 0.2s    \n",
            "\n",
            "2019-03-27 10:31:39 (16.3 MB/s) - ‘test.csv.3’ saved [3500635]\n",
            "\n"
          ],
          "name": "stdout"
        }
      ]
    },
    {
      "metadata": {
        "id": "R2nIBb9jX8Tl",
        "colab_type": "code",
        "outputId": "c0ee0ba4-992c-4e49-89c0-a1be997dc15d",
        "colab": {
          "base_uri": "https://localhost:8080/",
          "height": 54
        }
      },
      "cell_type": "code",
      "source": [
        "!ls"
      ],
      "execution_count": 7,
      "outputs": [
        {
          "output_type": "stream",
          "text": [
            "sample_data\t\t    test.csv\ttest.csv.2\n",
            "SSaschenko_predictions.csv  test.csv.1\ttrain.csv\n"
          ],
          "name": "stdout"
        }
      ]
    },
    {
      "metadata": {
        "id": "Qv0-feyiW7yb",
        "colab_type": "code",
        "colab": {}
      },
      "cell_type": "code",
      "source": [
        "train = pd.read_csv('train.csv')\n",
        "test = pd.read_csv('test.csv')"
      ],
      "execution_count": 0,
      "outputs": []
    },
    {
      "metadata": {
        "id": "9mhou2xKW7yq",
        "colab_type": "code",
        "outputId": "7a1b7ffc-5214-4674-916e-d40ea633b815",
        "colab": {
          "base_uri": "https://localhost:8080/",
          "height": 226
        }
      },
      "cell_type": "code",
      "source": [
        "train.head()"
      ],
      "execution_count": 9,
      "outputs": [
        {
          "output_type": "execute_result",
          "data": {
            "text/html": [
              "<div>\n",
              "<style scoped>\n",
              "    .dataframe tbody tr th:only-of-type {\n",
              "        vertical-align: middle;\n",
              "    }\n",
              "\n",
              "    .dataframe tbody tr th {\n",
              "        vertical-align: top;\n",
              "    }\n",
              "\n",
              "    .dataframe thead th {\n",
              "        text-align: right;\n",
              "    }\n",
              "</style>\n",
              "<table border=\"1\" class=\"dataframe\">\n",
              "  <thead>\n",
              "    <tr style=\"text-align: right;\">\n",
              "      <th></th>\n",
              "      <th>Id</th>\n",
              "      <th>DistrictId</th>\n",
              "      <th>Rooms</th>\n",
              "      <th>Square</th>\n",
              "      <th>LifeSquare</th>\n",
              "      <th>KitchenSquare</th>\n",
              "      <th>Floor</th>\n",
              "      <th>HouseFloor</th>\n",
              "      <th>HouseYear</th>\n",
              "      <th>Ecology_1</th>\n",
              "      <th>Ecology_2</th>\n",
              "      <th>Ecology_3</th>\n",
              "      <th>Social_1</th>\n",
              "      <th>Social_2</th>\n",
              "      <th>Social_3</th>\n",
              "      <th>Healthcare_1</th>\n",
              "      <th>Helthcare_2</th>\n",
              "      <th>Shops_1</th>\n",
              "      <th>Shops_2</th>\n",
              "      <th>Price</th>\n",
              "    </tr>\n",
              "  </thead>\n",
              "  <tbody>\n",
              "    <tr>\n",
              "      <th>0</th>\n",
              "      <td>14038</td>\n",
              "      <td>35</td>\n",
              "      <td>2.0</td>\n",
              "      <td>47.981561</td>\n",
              "      <td>29.442751</td>\n",
              "      <td>6.0</td>\n",
              "      <td>7</td>\n",
              "      <td>9.0</td>\n",
              "      <td>1969</td>\n",
              "      <td>0.089040</td>\n",
              "      <td>B</td>\n",
              "      <td>B</td>\n",
              "      <td>33</td>\n",
              "      <td>7976</td>\n",
              "      <td>5</td>\n",
              "      <td>NaN</td>\n",
              "      <td>0</td>\n",
              "      <td>11</td>\n",
              "      <td>B</td>\n",
              "      <td>184966.930730</td>\n",
              "    </tr>\n",
              "    <tr>\n",
              "      <th>1</th>\n",
              "      <td>15053</td>\n",
              "      <td>41</td>\n",
              "      <td>3.0</td>\n",
              "      <td>65.683640</td>\n",
              "      <td>40.049543</td>\n",
              "      <td>8.0</td>\n",
              "      <td>7</td>\n",
              "      <td>9.0</td>\n",
              "      <td>1978</td>\n",
              "      <td>0.000070</td>\n",
              "      <td>B</td>\n",
              "      <td>B</td>\n",
              "      <td>46</td>\n",
              "      <td>10309</td>\n",
              "      <td>1</td>\n",
              "      <td>240.0</td>\n",
              "      <td>1</td>\n",
              "      <td>16</td>\n",
              "      <td>B</td>\n",
              "      <td>300009.450063</td>\n",
              "    </tr>\n",
              "    <tr>\n",
              "      <th>2</th>\n",
              "      <td>4765</td>\n",
              "      <td>53</td>\n",
              "      <td>2.0</td>\n",
              "      <td>44.947953</td>\n",
              "      <td>29.197612</td>\n",
              "      <td>0.0</td>\n",
              "      <td>8</td>\n",
              "      <td>12.0</td>\n",
              "      <td>1968</td>\n",
              "      <td>0.049637</td>\n",
              "      <td>B</td>\n",
              "      <td>B</td>\n",
              "      <td>34</td>\n",
              "      <td>7759</td>\n",
              "      <td>0</td>\n",
              "      <td>229.0</td>\n",
              "      <td>1</td>\n",
              "      <td>3</td>\n",
              "      <td>B</td>\n",
              "      <td>220925.908524</td>\n",
              "    </tr>\n",
              "    <tr>\n",
              "      <th>3</th>\n",
              "      <td>5809</td>\n",
              "      <td>58</td>\n",
              "      <td>2.0</td>\n",
              "      <td>53.352981</td>\n",
              "      <td>52.731512</td>\n",
              "      <td>9.0</td>\n",
              "      <td>8</td>\n",
              "      <td>17.0</td>\n",
              "      <td>1977</td>\n",
              "      <td>0.437885</td>\n",
              "      <td>B</td>\n",
              "      <td>B</td>\n",
              "      <td>23</td>\n",
              "      <td>5735</td>\n",
              "      <td>3</td>\n",
              "      <td>1084.0</td>\n",
              "      <td>0</td>\n",
              "      <td>5</td>\n",
              "      <td>B</td>\n",
              "      <td>175616.227217</td>\n",
              "    </tr>\n",
              "    <tr>\n",
              "      <th>4</th>\n",
              "      <td>10783</td>\n",
              "      <td>99</td>\n",
              "      <td>1.0</td>\n",
              "      <td>39.649192</td>\n",
              "      <td>23.776169</td>\n",
              "      <td>7.0</td>\n",
              "      <td>11</td>\n",
              "      <td>12.0</td>\n",
              "      <td>1976</td>\n",
              "      <td>0.012339</td>\n",
              "      <td>B</td>\n",
              "      <td>B</td>\n",
              "      <td>35</td>\n",
              "      <td>5776</td>\n",
              "      <td>1</td>\n",
              "      <td>2078.0</td>\n",
              "      <td>2</td>\n",
              "      <td>4</td>\n",
              "      <td>B</td>\n",
              "      <td>150226.531644</td>\n",
              "    </tr>\n",
              "  </tbody>\n",
              "</table>\n",
              "</div>"
            ],
            "text/plain": [
              "      Id  DistrictId  Rooms     Square  LifeSquare  KitchenSquare  Floor  \\\n",
              "0  14038          35    2.0  47.981561   29.442751            6.0      7   \n",
              "1  15053          41    3.0  65.683640   40.049543            8.0      7   \n",
              "2   4765          53    2.0  44.947953   29.197612            0.0      8   \n",
              "3   5809          58    2.0  53.352981   52.731512            9.0      8   \n",
              "4  10783          99    1.0  39.649192   23.776169            7.0     11   \n",
              "\n",
              "   HouseFloor  HouseYear  Ecology_1 Ecology_2 Ecology_3  Social_1  Social_2  \\\n",
              "0         9.0       1969   0.089040         B         B        33      7976   \n",
              "1         9.0       1978   0.000070         B         B        46     10309   \n",
              "2        12.0       1968   0.049637         B         B        34      7759   \n",
              "3        17.0       1977   0.437885         B         B        23      5735   \n",
              "4        12.0       1976   0.012339         B         B        35      5776   \n",
              "\n",
              "   Social_3  Healthcare_1  Helthcare_2  Shops_1 Shops_2          Price  \n",
              "0         5           NaN            0       11       B  184966.930730  \n",
              "1         1         240.0            1       16       B  300009.450063  \n",
              "2         0         229.0            1        3       B  220925.908524  \n",
              "3         3        1084.0            0        5       B  175616.227217  \n",
              "4         1        2078.0            2        4       B  150226.531644  "
            ]
          },
          "metadata": {
            "tags": []
          },
          "execution_count": 9
        }
      ]
    },
    {
      "metadata": {
        "id": "_dO5qvLBW7zI",
        "colab_type": "code",
        "colab": {}
      },
      "cell_type": "code",
      "source": [
        "df = train.append(test)"
      ],
      "execution_count": 0,
      "outputs": []
    },
    {
      "metadata": {
        "scrolled": true,
        "id": "iAbmcwzBW7zS",
        "colab_type": "code",
        "outputId": "147afcb4-4318-4dfd-870c-7e9e413bf751",
        "colab": {
          "base_uri": "https://localhost:8080/",
          "height": 226
        }
      },
      "cell_type": "code",
      "source": [
        "df.head()"
      ],
      "execution_count": 11,
      "outputs": [
        {
          "output_type": "execute_result",
          "data": {
            "text/html": [
              "<div>\n",
              "<style scoped>\n",
              "    .dataframe tbody tr th:only-of-type {\n",
              "        vertical-align: middle;\n",
              "    }\n",
              "\n",
              "    .dataframe tbody tr th {\n",
              "        vertical-align: top;\n",
              "    }\n",
              "\n",
              "    .dataframe thead th {\n",
              "        text-align: right;\n",
              "    }\n",
              "</style>\n",
              "<table border=\"1\" class=\"dataframe\">\n",
              "  <thead>\n",
              "    <tr style=\"text-align: right;\">\n",
              "      <th></th>\n",
              "      <th>DistrictId</th>\n",
              "      <th>Ecology_1</th>\n",
              "      <th>Ecology_2</th>\n",
              "      <th>Ecology_3</th>\n",
              "      <th>Floor</th>\n",
              "      <th>Healthcare_1</th>\n",
              "      <th>Helthcare_2</th>\n",
              "      <th>HouseFloor</th>\n",
              "      <th>HouseYear</th>\n",
              "      <th>Id</th>\n",
              "      <th>KitchenSquare</th>\n",
              "      <th>LifeSquare</th>\n",
              "      <th>Price</th>\n",
              "      <th>Rooms</th>\n",
              "      <th>Shops_1</th>\n",
              "      <th>Shops_2</th>\n",
              "      <th>Social_1</th>\n",
              "      <th>Social_2</th>\n",
              "      <th>Social_3</th>\n",
              "      <th>Square</th>\n",
              "    </tr>\n",
              "  </thead>\n",
              "  <tbody>\n",
              "    <tr>\n",
              "      <th>0</th>\n",
              "      <td>35</td>\n",
              "      <td>0.089040</td>\n",
              "      <td>B</td>\n",
              "      <td>B</td>\n",
              "      <td>7</td>\n",
              "      <td>NaN</td>\n",
              "      <td>0</td>\n",
              "      <td>9.0</td>\n",
              "      <td>1969</td>\n",
              "      <td>14038</td>\n",
              "      <td>6.0</td>\n",
              "      <td>29.442751</td>\n",
              "      <td>184966.930730</td>\n",
              "      <td>2.0</td>\n",
              "      <td>11</td>\n",
              "      <td>B</td>\n",
              "      <td>33</td>\n",
              "      <td>7976</td>\n",
              "      <td>5</td>\n",
              "      <td>47.981561</td>\n",
              "    </tr>\n",
              "    <tr>\n",
              "      <th>1</th>\n",
              "      <td>41</td>\n",
              "      <td>0.000070</td>\n",
              "      <td>B</td>\n",
              "      <td>B</td>\n",
              "      <td>7</td>\n",
              "      <td>240.0</td>\n",
              "      <td>1</td>\n",
              "      <td>9.0</td>\n",
              "      <td>1978</td>\n",
              "      <td>15053</td>\n",
              "      <td>8.0</td>\n",
              "      <td>40.049543</td>\n",
              "      <td>300009.450063</td>\n",
              "      <td>3.0</td>\n",
              "      <td>16</td>\n",
              "      <td>B</td>\n",
              "      <td>46</td>\n",
              "      <td>10309</td>\n",
              "      <td>1</td>\n",
              "      <td>65.683640</td>\n",
              "    </tr>\n",
              "    <tr>\n",
              "      <th>2</th>\n",
              "      <td>53</td>\n",
              "      <td>0.049637</td>\n",
              "      <td>B</td>\n",
              "      <td>B</td>\n",
              "      <td>8</td>\n",
              "      <td>229.0</td>\n",
              "      <td>1</td>\n",
              "      <td>12.0</td>\n",
              "      <td>1968</td>\n",
              "      <td>4765</td>\n",
              "      <td>0.0</td>\n",
              "      <td>29.197612</td>\n",
              "      <td>220925.908524</td>\n",
              "      <td>2.0</td>\n",
              "      <td>3</td>\n",
              "      <td>B</td>\n",
              "      <td>34</td>\n",
              "      <td>7759</td>\n",
              "      <td>0</td>\n",
              "      <td>44.947953</td>\n",
              "    </tr>\n",
              "    <tr>\n",
              "      <th>3</th>\n",
              "      <td>58</td>\n",
              "      <td>0.437885</td>\n",
              "      <td>B</td>\n",
              "      <td>B</td>\n",
              "      <td>8</td>\n",
              "      <td>1084.0</td>\n",
              "      <td>0</td>\n",
              "      <td>17.0</td>\n",
              "      <td>1977</td>\n",
              "      <td>5809</td>\n",
              "      <td>9.0</td>\n",
              "      <td>52.731512</td>\n",
              "      <td>175616.227217</td>\n",
              "      <td>2.0</td>\n",
              "      <td>5</td>\n",
              "      <td>B</td>\n",
              "      <td>23</td>\n",
              "      <td>5735</td>\n",
              "      <td>3</td>\n",
              "      <td>53.352981</td>\n",
              "    </tr>\n",
              "    <tr>\n",
              "      <th>4</th>\n",
              "      <td>99</td>\n",
              "      <td>0.012339</td>\n",
              "      <td>B</td>\n",
              "      <td>B</td>\n",
              "      <td>11</td>\n",
              "      <td>2078.0</td>\n",
              "      <td>2</td>\n",
              "      <td>12.0</td>\n",
              "      <td>1976</td>\n",
              "      <td>10783</td>\n",
              "      <td>7.0</td>\n",
              "      <td>23.776169</td>\n",
              "      <td>150226.531644</td>\n",
              "      <td>1.0</td>\n",
              "      <td>4</td>\n",
              "      <td>B</td>\n",
              "      <td>35</td>\n",
              "      <td>5776</td>\n",
              "      <td>1</td>\n",
              "      <td>39.649192</td>\n",
              "    </tr>\n",
              "  </tbody>\n",
              "</table>\n",
              "</div>"
            ],
            "text/plain": [
              "   DistrictId  Ecology_1 Ecology_2 Ecology_3  Floor  Healthcare_1  \\\n",
              "0          35   0.089040         B         B      7           NaN   \n",
              "1          41   0.000070         B         B      7         240.0   \n",
              "2          53   0.049637         B         B      8         229.0   \n",
              "3          58   0.437885         B         B      8        1084.0   \n",
              "4          99   0.012339         B         B     11        2078.0   \n",
              "\n",
              "   Helthcare_2  HouseFloor  HouseYear     Id  KitchenSquare  LifeSquare  \\\n",
              "0            0         9.0       1969  14038            6.0   29.442751   \n",
              "1            1         9.0       1978  15053            8.0   40.049543   \n",
              "2            1        12.0       1968   4765            0.0   29.197612   \n",
              "3            0        17.0       1977   5809            9.0   52.731512   \n",
              "4            2        12.0       1976  10783            7.0   23.776169   \n",
              "\n",
              "           Price  Rooms  Shops_1 Shops_2  Social_1  Social_2  Social_3  \\\n",
              "0  184966.930730    2.0       11       B        33      7976         5   \n",
              "1  300009.450063    3.0       16       B        46     10309         1   \n",
              "2  220925.908524    2.0        3       B        34      7759         0   \n",
              "3  175616.227217    2.0        5       B        23      5735         3   \n",
              "4  150226.531644    1.0        4       B        35      5776         1   \n",
              "\n",
              "      Square  \n",
              "0  47.981561  \n",
              "1  65.683640  \n",
              "2  44.947953  \n",
              "3  53.352981  \n",
              "4  39.649192  "
            ]
          },
          "metadata": {
            "tags": []
          },
          "execution_count": 11
        }
      ]
    },
    {
      "metadata": {
        "id": "REXjm7ucW7zl",
        "colab_type": "text"
      },
      "cell_type": "markdown",
      "source": [
        "### Смотрим признаки"
      ]
    },
    {
      "metadata": {
        "id": "vC_7AzkIW7zr",
        "colab_type": "code",
        "outputId": "147af7f2-5849-4be9-f52d-547dd530f162",
        "colab": {
          "base_uri": "https://localhost:8080/",
          "height": 320
        }
      },
      "cell_type": "code",
      "source": [
        "df.describe()"
      ],
      "execution_count": 12,
      "outputs": [
        {
          "output_type": "execute_result",
          "data": {
            "text/html": [
              "<div>\n",
              "<style scoped>\n",
              "    .dataframe tbody tr th:only-of-type {\n",
              "        vertical-align: middle;\n",
              "    }\n",
              "\n",
              "    .dataframe tbody tr th {\n",
              "        vertical-align: top;\n",
              "    }\n",
              "\n",
              "    .dataframe thead th {\n",
              "        text-align: right;\n",
              "    }\n",
              "</style>\n",
              "<table border=\"1\" class=\"dataframe\">\n",
              "  <thead>\n",
              "    <tr style=\"text-align: right;\">\n",
              "      <th></th>\n",
              "      <th>DistrictId</th>\n",
              "      <th>Ecology_1</th>\n",
              "      <th>Floor</th>\n",
              "      <th>Healthcare_1</th>\n",
              "      <th>Helthcare_2</th>\n",
              "      <th>HouseFloor</th>\n",
              "      <th>HouseYear</th>\n",
              "      <th>Id</th>\n",
              "      <th>KitchenSquare</th>\n",
              "      <th>LifeSquare</th>\n",
              "      <th>Price</th>\n",
              "      <th>Rooms</th>\n",
              "      <th>Shops_1</th>\n",
              "      <th>Social_1</th>\n",
              "      <th>Social_2</th>\n",
              "      <th>Social_3</th>\n",
              "      <th>Square</th>\n",
              "    </tr>\n",
              "  </thead>\n",
              "  <tbody>\n",
              "    <tr>\n",
              "      <th>count</th>\n",
              "      <td>15000.000000</td>\n",
              "      <td>15000.000000</td>\n",
              "      <td>15000.000000</td>\n",
              "      <td>7825.000000</td>\n",
              "      <td>15000.000000</td>\n",
              "      <td>15000.000000</td>\n",
              "      <td>1.500000e+04</td>\n",
              "      <td>15000.000000</td>\n",
              "      <td>15000.000000</td>\n",
              "      <td>11846.000000</td>\n",
              "      <td>10000.000000</td>\n",
              "      <td>15000.000000</td>\n",
              "      <td>15000.000000</td>\n",
              "      <td>15000.000000</td>\n",
              "      <td>15000.000000</td>\n",
              "      <td>15000.000000</td>\n",
              "      <td>15000.000000</td>\n",
              "    </tr>\n",
              "    <tr>\n",
              "      <th>mean</th>\n",
              "      <td>50.693600</td>\n",
              "      <td>0.119196</td>\n",
              "      <td>8.561800</td>\n",
              "      <td>1144.162428</td>\n",
              "      <td>1.319467</td>\n",
              "      <td>12.606600</td>\n",
              "      <td>3.321575e+03</td>\n",
              "      <td>8393.136933</td>\n",
              "      <td>6.174467</td>\n",
              "      <td>36.851792</td>\n",
              "      <td>214138.857399</td>\n",
              "      <td>1.897000</td>\n",
              "      <td>4.235133</td>\n",
              "      <td>24.769267</td>\n",
              "      <td>5370.404933</td>\n",
              "      <td>8.113667</td>\n",
              "      <td>56.360350</td>\n",
              "    </tr>\n",
              "    <tr>\n",
              "      <th>std</th>\n",
              "      <td>43.786257</td>\n",
              "      <td>0.119371</td>\n",
              "      <td>5.323113</td>\n",
              "      <td>1029.296278</td>\n",
              "      <td>1.489012</td>\n",
              "      <td>6.780165</td>\n",
              "      <td>1.637078e+05</td>\n",
              "      <td>4850.111673</td>\n",
              "      <td>24.016979</td>\n",
              "      <td>71.120183</td>\n",
              "      <td>92872.293865</td>\n",
              "      <td>0.839229</td>\n",
              "      <td>4.796545</td>\n",
              "      <td>17.532278</td>\n",
              "      <td>4013.364403</td>\n",
              "      <td>23.841946</td>\n",
              "      <td>20.423913</td>\n",
              "    </tr>\n",
              "    <tr>\n",
              "      <th>min</th>\n",
              "      <td>0.000000</td>\n",
              "      <td>0.000000</td>\n",
              "      <td>1.000000</td>\n",
              "      <td>0.000000</td>\n",
              "      <td>0.000000</td>\n",
              "      <td>0.000000</td>\n",
              "      <td>1.908000e+03</td>\n",
              "      <td>0.000000</td>\n",
              "      <td>0.000000</td>\n",
              "      <td>0.333490</td>\n",
              "      <td>59174.778028</td>\n",
              "      <td>0.000000</td>\n",
              "      <td>0.000000</td>\n",
              "      <td>0.000000</td>\n",
              "      <td>168.000000</td>\n",
              "      <td>0.000000</td>\n",
              "      <td>1.136859</td>\n",
              "    </tr>\n",
              "    <tr>\n",
              "      <th>25%</th>\n",
              "      <td>20.000000</td>\n",
              "      <td>0.017647</td>\n",
              "      <td>4.000000</td>\n",
              "      <td>350.000000</td>\n",
              "      <td>0.000000</td>\n",
              "      <td>9.000000</td>\n",
              "      <td>1.974000e+03</td>\n",
              "      <td>4188.750000</td>\n",
              "      <td>1.000000</td>\n",
              "      <td>22.896130</td>\n",
              "      <td>153872.633942</td>\n",
              "      <td>1.000000</td>\n",
              "      <td>1.000000</td>\n",
              "      <td>6.000000</td>\n",
              "      <td>1564.000000</td>\n",
              "      <td>0.000000</td>\n",
              "      <td>41.814371</td>\n",
              "    </tr>\n",
              "    <tr>\n",
              "      <th>50%</th>\n",
              "      <td>37.000000</td>\n",
              "      <td>0.075424</td>\n",
              "      <td>7.000000</td>\n",
              "      <td>900.000000</td>\n",
              "      <td>1.000000</td>\n",
              "      <td>12.000000</td>\n",
              "      <td>1.977000e+03</td>\n",
              "      <td>8378.500000</td>\n",
              "      <td>6.000000</td>\n",
              "      <td>32.822810</td>\n",
              "      <td>192269.644879</td>\n",
              "      <td>2.000000</td>\n",
              "      <td>3.000000</td>\n",
              "      <td>25.000000</td>\n",
              "      <td>5285.000000</td>\n",
              "      <td>2.000000</td>\n",
              "      <td>52.645757</td>\n",
              "    </tr>\n",
              "    <tr>\n",
              "      <th>75%</th>\n",
              "      <td>75.000000</td>\n",
              "      <td>0.195781</td>\n",
              "      <td>12.000000</td>\n",
              "      <td>1548.000000</td>\n",
              "      <td>2.000000</td>\n",
              "      <td>17.000000</td>\n",
              "      <td>2.001000e+03</td>\n",
              "      <td>12594.250000</td>\n",
              "      <td>9.000000</td>\n",
              "      <td>45.144624</td>\n",
              "      <td>249135.462171</td>\n",
              "      <td>2.000000</td>\n",
              "      <td>6.000000</td>\n",
              "      <td>36.000000</td>\n",
              "      <td>7287.000000</td>\n",
              "      <td>5.000000</td>\n",
              "      <td>66.036608</td>\n",
              "    </tr>\n",
              "    <tr>\n",
              "      <th>max</th>\n",
              "      <td>212.000000</td>\n",
              "      <td>0.521867</td>\n",
              "      <td>78.000000</td>\n",
              "      <td>4849.000000</td>\n",
              "      <td>6.000000</td>\n",
              "      <td>117.000000</td>\n",
              "      <td>2.005201e+07</td>\n",
              "      <td>16798.000000</td>\n",
              "      <td>2014.000000</td>\n",
              "      <td>7480.592129</td>\n",
              "      <td>633233.466570</td>\n",
              "      <td>19.000000</td>\n",
              "      <td>23.000000</td>\n",
              "      <td>74.000000</td>\n",
              "      <td>19083.000000</td>\n",
              "      <td>141.000000</td>\n",
              "      <td>641.065193</td>\n",
              "    </tr>\n",
              "  </tbody>\n",
              "</table>\n",
              "</div>"
            ],
            "text/plain": [
              "         DistrictId     Ecology_1         Floor  Healthcare_1   Helthcare_2  \\\n",
              "count  15000.000000  15000.000000  15000.000000   7825.000000  15000.000000   \n",
              "mean      50.693600      0.119196      8.561800   1144.162428      1.319467   \n",
              "std       43.786257      0.119371      5.323113   1029.296278      1.489012   \n",
              "min        0.000000      0.000000      1.000000      0.000000      0.000000   \n",
              "25%       20.000000      0.017647      4.000000    350.000000      0.000000   \n",
              "50%       37.000000      0.075424      7.000000    900.000000      1.000000   \n",
              "75%       75.000000      0.195781     12.000000   1548.000000      2.000000   \n",
              "max      212.000000      0.521867     78.000000   4849.000000      6.000000   \n",
              "\n",
              "         HouseFloor     HouseYear            Id  KitchenSquare    LifeSquare  \\\n",
              "count  15000.000000  1.500000e+04  15000.000000   15000.000000  11846.000000   \n",
              "mean      12.606600  3.321575e+03   8393.136933       6.174467     36.851792   \n",
              "std        6.780165  1.637078e+05   4850.111673      24.016979     71.120183   \n",
              "min        0.000000  1.908000e+03      0.000000       0.000000      0.333490   \n",
              "25%        9.000000  1.974000e+03   4188.750000       1.000000     22.896130   \n",
              "50%       12.000000  1.977000e+03   8378.500000       6.000000     32.822810   \n",
              "75%       17.000000  2.001000e+03  12594.250000       9.000000     45.144624   \n",
              "max      117.000000  2.005201e+07  16798.000000    2014.000000   7480.592129   \n",
              "\n",
              "               Price         Rooms       Shops_1      Social_1      Social_2  \\\n",
              "count   10000.000000  15000.000000  15000.000000  15000.000000  15000.000000   \n",
              "mean   214138.857399      1.897000      4.235133     24.769267   5370.404933   \n",
              "std     92872.293865      0.839229      4.796545     17.532278   4013.364403   \n",
              "min     59174.778028      0.000000      0.000000      0.000000    168.000000   \n",
              "25%    153872.633942      1.000000      1.000000      6.000000   1564.000000   \n",
              "50%    192269.644879      2.000000      3.000000     25.000000   5285.000000   \n",
              "75%    249135.462171      2.000000      6.000000     36.000000   7287.000000   \n",
              "max    633233.466570     19.000000     23.000000     74.000000  19083.000000   \n",
              "\n",
              "           Social_3        Square  \n",
              "count  15000.000000  15000.000000  \n",
              "mean       8.113667     56.360350  \n",
              "std       23.841946     20.423913  \n",
              "min        0.000000      1.136859  \n",
              "25%        0.000000     41.814371  \n",
              "50%        2.000000     52.645757  \n",
              "75%        5.000000     66.036608  \n",
              "max      141.000000    641.065193  "
            ]
          },
          "metadata": {
            "tags": []
          },
          "execution_count": 12
        }
      ]
    },
    {
      "metadata": {
        "id": "Io5cfDjWW7z7",
        "colab_type": "code",
        "outputId": "4ca1c037-48ee-4ad2-c84a-9b21526e7ecc",
        "colab": {
          "base_uri": "https://localhost:8080/",
          "height": 476
        }
      },
      "cell_type": "code",
      "source": [
        "df.info()"
      ],
      "execution_count": 13,
      "outputs": [
        {
          "output_type": "stream",
          "text": [
            "<class 'pandas.core.frame.DataFrame'>\n",
            "Int64Index: 15000 entries, 0 to 4999\n",
            "Data columns (total 20 columns):\n",
            "DistrictId       15000 non-null int64\n",
            "Ecology_1        15000 non-null float64\n",
            "Ecology_2        15000 non-null object\n",
            "Ecology_3        15000 non-null object\n",
            "Floor            15000 non-null int64\n",
            "Healthcare_1     7825 non-null float64\n",
            "Helthcare_2      15000 non-null int64\n",
            "HouseFloor       15000 non-null float64\n",
            "HouseYear        15000 non-null int64\n",
            "Id               15000 non-null int64\n",
            "KitchenSquare    15000 non-null float64\n",
            "LifeSquare       11846 non-null float64\n",
            "Price            10000 non-null float64\n",
            "Rooms            15000 non-null float64\n",
            "Shops_1          15000 non-null int64\n",
            "Shops_2          15000 non-null object\n",
            "Social_1         15000 non-null int64\n",
            "Social_2         15000 non-null int64\n",
            "Social_3         15000 non-null int64\n",
            "Square           15000 non-null float64\n",
            "dtypes: float64(8), int64(9), object(3)\n",
            "memory usage: 2.4+ MB\n"
          ],
          "name": "stdout"
        }
      ]
    },
    {
      "metadata": {
        "id": "u5sBMS-qW70P",
        "colab_type": "code",
        "colab": {}
      },
      "cell_type": "code",
      "source": [
        "# дропнем сразу Helthcare_1\n",
        "df = df.drop(['Healthcare_1'], axis = 1)"
      ],
      "execution_count": 0,
      "outputs": []
    },
    {
      "metadata": {
        "id": "goldiPfxW70t",
        "colab_type": "code",
        "outputId": "7b0e090d-187b-431d-dd95-9731b67b6232",
        "colab": {
          "base_uri": "https://localhost:8080/",
          "height": 458
        }
      },
      "cell_type": "code",
      "source": [
        "df.info()"
      ],
      "execution_count": 15,
      "outputs": [
        {
          "output_type": "stream",
          "text": [
            "<class 'pandas.core.frame.DataFrame'>\n",
            "Int64Index: 15000 entries, 0 to 4999\n",
            "Data columns (total 19 columns):\n",
            "DistrictId       15000 non-null int64\n",
            "Ecology_1        15000 non-null float64\n",
            "Ecology_2        15000 non-null object\n",
            "Ecology_3        15000 non-null object\n",
            "Floor            15000 non-null int64\n",
            "Helthcare_2      15000 non-null int64\n",
            "HouseFloor       15000 non-null float64\n",
            "HouseYear        15000 non-null int64\n",
            "Id               15000 non-null int64\n",
            "KitchenSquare    15000 non-null float64\n",
            "LifeSquare       11846 non-null float64\n",
            "Price            10000 non-null float64\n",
            "Rooms            15000 non-null float64\n",
            "Shops_1          15000 non-null int64\n",
            "Shops_2          15000 non-null object\n",
            "Social_1         15000 non-null int64\n",
            "Social_2         15000 non-null int64\n",
            "Social_3         15000 non-null int64\n",
            "Square           15000 non-null float64\n",
            "dtypes: float64(7), int64(9), object(3)\n",
            "memory usage: 2.3+ MB\n"
          ],
          "name": "stdout"
        }
      ]
    },
    {
      "metadata": {
        "id": "AaF4Smo6W71F",
        "colab_type": "text"
      },
      "cell_type": "markdown",
      "source": [
        "##### Для начала разберемся с комнатами"
      ]
    },
    {
      "metadata": {
        "id": "56Xpc_sfW71M",
        "colab_type": "code",
        "colab": {}
      },
      "cell_type": "code",
      "source": [
        "plt.scatter(df['Rooms'], df['Price']);"
      ],
      "execution_count": 0,
      "outputs": []
    },
    {
      "metadata": {
        "id": "yIpwmwI8W71i",
        "colab_type": "text"
      },
      "cell_type": "markdown",
      "source": [
        "Видим выбросы"
      ]
    },
    {
      "metadata": {
        "scrolled": true,
        "id": "c9NDXRxDW71n",
        "colab_type": "code",
        "colab": {}
      },
      "cell_type": "code",
      "source": [
        "df.loc[df['Rooms'] > 5, :]"
      ],
      "execution_count": 0,
      "outputs": []
    },
    {
      "metadata": {
        "id": "mifTtxtqW716",
        "colab_type": "text"
      },
      "cell_type": "markdown",
      "source": [
        "Видим что только одна квартира может иметь 6 комнат, и то скорее всего там 5 комнат.\n",
        "Так как таких квартир немного обработаем их вручную."
      ]
    },
    {
      "metadata": {
        "id": "b9IZHx3FW71-",
        "colab_type": "code",
        "colab": {}
      },
      "cell_type": "code",
      "source": [
        "df.loc[df['Id'] == 5927, 'Rooms'] = 2\n",
        "df.loc[df['Id'] == 8491, 'Rooms'] = 1\n",
        "df.loc[df['Id'] == 14003, 'Rooms'] = 3\n",
        "df.loc[df['Id'] == 14865, 'Rooms'] = 2\n",
        "df.loc[df['Id'] == 10793, 'Rooms'] = 5\n",
        "df.loc[df['Id'] == 1435, 'Rooms'] = 2\n",
        "df.loc[df['Id'] == 4058, 'Rooms'] = 5"
      ],
      "execution_count": 0,
      "outputs": []
    },
    {
      "metadata": {
        "id": "MSML16rhW72L",
        "colab_type": "code",
        "colab": {}
      },
      "cell_type": "code",
      "source": [
        "plt.scatter(df['Rooms'], df['Price']);"
      ],
      "execution_count": 0,
      "outputs": []
    },
    {
      "metadata": {
        "id": "JLqF8tQlW72f",
        "colab_type": "text"
      },
      "cell_type": "markdown",
      "source": [
        "Глянем еще раз на разброс"
      ]
    },
    {
      "metadata": {
        "id": "AziuuT33W72j",
        "colab_type": "code",
        "colab": {}
      },
      "cell_type": "code",
      "source": [
        "df['Rooms'].describe()"
      ],
      "execution_count": 0,
      "outputs": []
    },
    {
      "metadata": {
        "id": "QwRYc7tuW73A",
        "colab_type": "text"
      },
      "cell_type": "markdown",
      "source": [
        "Видим квартиры по 0 комнат."
      ]
    },
    {
      "metadata": {
        "id": "uMudmX_WW73K",
        "colab_type": "code",
        "colab": {}
      },
      "cell_type": "code",
      "source": [
        "df.loc[df['Rooms'] == 0, :]"
      ],
      "execution_count": 0,
      "outputs": []
    },
    {
      "metadata": {
        "id": "SS7FIDDoW73l",
        "colab_type": "text"
      },
      "cell_type": "markdown",
      "source": [
        "Поправим  их"
      ]
    },
    {
      "metadata": {
        "id": "esCST2q-W73x",
        "colab_type": "code",
        "colab": {}
      },
      "cell_type": "code",
      "source": [
        "df.loc[df['Id'] == 12638, 'Rooms'] = 3\n",
        "df.loc[df['Id'] == 7917, 'Rooms'] = 3\n",
        "df.loc[df['Id'] == 7317, 'Rooms'] = 1\n",
        "df.loc[df['Id'] == 770, 'Rooms'] = 2\n",
        "df.loc[df['Id'] == 456, 'Rooms'] = 3\n",
        "df.loc[df['Id'] == 3224, 'Rooms'] = 1\n",
        "df.loc[df['Id'] == 3159, 'Rooms'] = 1\n",
        "df.loc[df['Id'] == 9443, 'Rooms'] = 3\n",
        "df.loc[df['Id'] == 3343, 'Rooms'] = 3\n",
        "df.loc[df['Id'] == 10729, 'Rooms'] = 3"
      ],
      "execution_count": 0,
      "outputs": []
    },
    {
      "metadata": {
        "id": "tpQyFyALW74F",
        "colab_type": "text"
      },
      "cell_type": "markdown",
      "source": [
        "Еще раз посмотрим на разброс"
      ]
    },
    {
      "metadata": {
        "id": "Chj7s-7kW74L",
        "colab_type": "code",
        "colab": {}
      },
      "cell_type": "code",
      "source": [
        "plt.scatter(df['Rooms'], df['Price']);"
      ],
      "execution_count": 0,
      "outputs": []
    },
    {
      "metadata": {
        "id": "AZ7eUnVeW74w",
        "colab_type": "text"
      },
      "cell_type": "markdown",
      "source": [
        "Смущают квартиры 4-5 комнатами по очень низкой цене и одна 1комнатная под 600к"
      ]
    },
    {
      "metadata": {
        "id": "-t8VvzzxW740",
        "colab_type": "code",
        "colab": {}
      },
      "cell_type": "code",
      "source": [
        "df.loc[(df['Rooms'] == 5) & (df['Price']<250000)]"
      ],
      "execution_count": 0,
      "outputs": []
    },
    {
      "metadata": {
        "id": "nyiHR5TKW75H",
        "colab_type": "code",
        "colab": {}
      },
      "cell_type": "code",
      "source": [
        "# Явно не по 5 комнат\n",
        "df.loc[df['Id'] == 6358, 'Rooms'] = 2\n",
        "df.loc[df['Id'] == 7594, 'Rooms'] = 2"
      ],
      "execution_count": 0,
      "outputs": []
    },
    {
      "metadata": {
        "id": "SsVwHqeCW75P",
        "colab_type": "code",
        "colab": {}
      },
      "cell_type": "code",
      "source": [
        "df.loc[(df['Rooms'] == 4) & (df['Price']<200000)]"
      ],
      "execution_count": 0,
      "outputs": []
    },
    {
      "metadata": {
        "id": "yjZ0lxHYW75b",
        "colab_type": "code",
        "colab": {}
      },
      "cell_type": "code",
      "source": [
        "distr_average = train.groupby(['DistrictId', 'Rooms'])['Price'].mean().reset_index()\n",
        "# distr_average"
      ],
      "execution_count": 0,
      "outputs": []
    },
    {
      "metadata": {
        "id": "pVUk8UY1W76C",
        "colab_type": "code",
        "colab": {}
      },
      "cell_type": "code",
      "source": [
        "distr_average.loc[distr_average['DistrictId'] == 5]"
      ],
      "execution_count": 0,
      "outputs": []
    },
    {
      "metadata": {
        "id": "9Y0q5X0_W76S",
        "colab_type": "code",
        "colab": {}
      },
      "cell_type": "code",
      "source": [
        "df.loc[df['Id'] == 203, 'Rooms'] = 1\n",
        "df.loc[df['Id'] == 203, 'Square'] = 22.630373\n",
        "df.loc[df['Id'] == 203, 'LifeSquare'] = 10.1554252"
      ],
      "execution_count": 0,
      "outputs": []
    },
    {
      "metadata": {
        "id": "Kamaq8BLW76Y",
        "colab_type": "code",
        "colab": {}
      },
      "cell_type": "code",
      "source": [
        "df.loc[(df['Rooms'] == 1) & (df['Price']>500000)]"
      ],
      "execution_count": 0,
      "outputs": []
    },
    {
      "metadata": {
        "id": "3yZinv62W76i",
        "colab_type": "code",
        "colab": {}
      },
      "cell_type": "code",
      "source": [
        "df.loc[df['Id'] == 13603, 'Rooms'] = 5\n",
        "df.loc[df['Id'] == 13603, 'LifeSquare'] = 110\n",
        "df.loc[df['Id'] == 7496, 'Rooms'] = 5\n",
        "df.loc[df['Id'] == 16638, 'Rooms'] = 5"
      ],
      "execution_count": 0,
      "outputs": []
    },
    {
      "metadata": {
        "id": "97sb24HHW76r",
        "colab_type": "text"
      },
      "cell_type": "markdown",
      "source": [
        "Еще раз посмотрим на разброс"
      ]
    },
    {
      "metadata": {
        "id": "rNerCQ5FW76s",
        "colab_type": "code",
        "colab": {}
      },
      "cell_type": "code",
      "source": [
        "plt.scatter(df['Rooms'], df['Price']);"
      ],
      "execution_count": 0,
      "outputs": []
    },
    {
      "metadata": {
        "id": "a0YHkcY5W766",
        "colab_type": "text"
      },
      "cell_type": "markdown",
      "source": [
        "Уже лучше"
      ]
    },
    {
      "metadata": {
        "scrolled": true,
        "id": "hwm2-SPRW77A",
        "colab_type": "code",
        "colab": {}
      },
      "cell_type": "code",
      "source": [
        "df.loc[df['Id'] == 14038]"
      ],
      "execution_count": 0,
      "outputs": []
    },
    {
      "metadata": {
        "id": "-aqmc0fhW77I",
        "colab_type": "text"
      },
      "cell_type": "markdown",
      "source": [
        "### Теперь разберемся с общей площадью"
      ]
    },
    {
      "metadata": {
        "id": "RWafZEEGW77K",
        "colab_type": "code",
        "colab": {}
      },
      "cell_type": "code",
      "source": [
        "df['Square'].describe()"
      ],
      "execution_count": 0,
      "outputs": []
    },
    {
      "metadata": {
        "scrolled": true,
        "id": "7plLUH06W77V",
        "colab_type": "code",
        "colab": {}
      },
      "cell_type": "code",
      "source": [
        "plt.scatter(df['Square'], df['Price']);"
      ],
      "execution_count": 0,
      "outputs": []
    },
    {
      "metadata": {
        "id": "8Dej_seQW77x",
        "colab_type": "text"
      },
      "cell_type": "markdown",
      "source": [
        "Видим выбросы и квартиры меньше 5 м2. Надо пофиксить."
      ]
    },
    {
      "metadata": {
        "id": "BDVnA-1PW77z",
        "colab_type": "code",
        "colab": {}
      },
      "cell_type": "code",
      "source": [
        "df.loc[df['Square'] > 250, :]"
      ],
      "execution_count": 0,
      "outputs": []
    },
    {
      "metadata": {
        "id": "5Av8k1KoW78B",
        "colab_type": "code",
        "colab": {}
      },
      "cell_type": "code",
      "source": [
        "df.loc[df['Id'] == 28, 'Rooms'] = 2\n",
        "df.loc[df['Id'] == 28, 'Square'] = df.loc[df['Id'] == 28, 'Square']/10\n",
        "df.loc[df['Id'] == 2307, 'Square'] = df.loc[df['Id'] == 2307, 'Square']/10\n",
        "df.loc[df['Id'] == 11602, 'Square'] = df.loc[df['Id'] == 11602, 'Square']/10"
      ],
      "execution_count": 0,
      "outputs": []
    },
    {
      "metadata": {
        "id": "PWRd72F8W78H",
        "colab_type": "code",
        "colab": {}
      },
      "cell_type": "code",
      "source": [
        "def square(id, square, life_square):\n",
        "    df.loc[df['Id'] == id, 'Square'] = square\n",
        "    df.loc[df['Id'] == id, 'LifeSquare'] = life_square"
      ],
      "execution_count": 0,
      "outputs": []
    },
    {
      "metadata": {
        "id": "fQxZAey0W78L",
        "colab_type": "code",
        "colab": {}
      },
      "cell_type": "code",
      "source": [
        "square_average = train.groupby(['DistrictId', 'Rooms'])['Square'].mean().reset_index()\n",
        "# distr_average\n",
        "square_average.loc[square_average['DistrictId'] == 190]\n",
        "# distr_average.loc[distr_average['DistrictId'] == 30]"
      ],
      "execution_count": 0,
      "outputs": []
    },
    {
      "metadata": {
        "id": "gbTPQCSkW78a",
        "colab_type": "code",
        "colab": {}
      },
      "cell_type": "code",
      "source": [
        "life_square_average = df.groupby(['DistrictId', 'Rooms'])['LifeSquare'].mean().reset_index()\n",
        "life_square_average.loc[life_square_average['DistrictId'] == 27]"
      ],
      "execution_count": 0,
      "outputs": []
    },
    {
      "metadata": {
        "id": "IjeiJRp4W78i",
        "colab_type": "code",
        "colab": {}
      },
      "cell_type": "code",
      "source": [
        "square(1420, 29, 19.75)\n",
        "square(170, 61.468, 50)\n",
        "square(7855, 49.67, 29.68)\n",
        "square(1165, 23.72, 18.99)\n",
        "square(10120, 51, 28.62)\n",
        "df.loc[df['Id'] == 10120, 'Rooms'] = 2\n",
        "square(2138, 56.47, 45)\n",
        "df.loc[df['Id'] == 2138, 'Rooms'] = 2\n",
        "square(16401, 43.38, 26.45)\n",
        "df.loc[df['Id'] == 16404, 'Rooms'] = 2\n",
        "square(9011, 38, 23.95 )\n",
        "square(1420, 40, 26.7)\n",
        "square(5480, 30, 18)\n",
        "square(7657, 46.19, 45.03)\n",
        "square(6782, 52.57, 29.54)\n",
        "df.loc[df['Id'] == 6782, 'Rooms'] = 2\n",
        "square(15744, 26.42, 19.88)\n",
        "square(13265, 79.77, 48.24)\n",
        "square(14786, 45.26, 33)\n",
        "square(4504, 56.11, 43.9)\n",
        "square(3224, 23.77, 8.7 )\n",
        "square(12676, 25, 13)\n",
        "df.loc[df['Id'] == 12676, 'Rooms'] = 1\n",
        "square(9487, 55.5, 51.3)\n",
        "df.loc[df['Id'] == 9487, 'Rooms'] = 3\n",
        "square(10527, 43.81, 40.81)\n",
        "square(10202, 46.05, 25.96)\n",
        "square(11526, 46.33, 19.7)\n",
        "square(1748, 67.63, 54.97)\n"
      ],
      "execution_count": 0,
      "outputs": []
    },
    {
      "metadata": {
        "id": "1kuFKycJW78o",
        "colab_type": "code",
        "colab": {}
      },
      "cell_type": "code",
      "source": [
        "df.loc[df['Square'] < 15, :]"
      ],
      "execution_count": 0,
      "outputs": []
    },
    {
      "metadata": {
        "id": "GqgMMRWlW78t",
        "colab_type": "text"
      },
      "cell_type": "markdown",
      "source": [
        "уже больше похоже на правду"
      ]
    },
    {
      "metadata": {
        "id": "EpOQsnHZW78v",
        "colab_type": "code",
        "colab": {}
      },
      "cell_type": "code",
      "source": [
        "plt.scatter(df['Square'], df['Price']);"
      ],
      "execution_count": 0,
      "outputs": []
    },
    {
      "metadata": {
        "id": "qVZMN_4DW787",
        "colab_type": "text"
      },
      "cell_type": "markdown",
      "source": [
        "теперь глянем на площади, где жилая площадь больше общей"
      ]
    },
    {
      "metadata": {
        "id": "8R2j8JAtW789",
        "colab_type": "code",
        "colab": {}
      },
      "cell_type": "code",
      "source": [
        "# df.loc[df['Square'] < df['LifeSquare'], :]\n",
        "# дофига...."
      ],
      "execution_count": 0,
      "outputs": []
    },
    {
      "metadata": {
        "id": "79a5c_mYW79B",
        "colab_type": "code",
        "colab": {}
      },
      "cell_type": "code",
      "source": [
        "df.loc[(df['LifeSquare'] - df['Square'])>20, :]"
      ],
      "execution_count": 0,
      "outputs": []
    },
    {
      "metadata": {
        "id": "Mynb7ctyW79J",
        "colab_type": "text"
      },
      "cell_type": "markdown",
      "source": [
        "ага, вот они, красавчики, пофиксим"
      ]
    },
    {
      "metadata": {
        "id": "sM_FEeatW79K",
        "colab_type": "code",
        "colab": {}
      },
      "cell_type": "code",
      "source": [
        "df.loc[(df['LifeSquare'] - df['Square'])>20, 'LifeSquare'] =(df.loc[(df['LifeSquare'] - df['Square'])>20, 'LifeSquare'])/10"
      ],
      "execution_count": 0,
      "outputs": []
    },
    {
      "metadata": {
        "id": "TQjhKJfFW79O",
        "colab_type": "code",
        "colab": {}
      },
      "cell_type": "code",
      "source": [
        "df.loc[(df['LifeSquare'] - df['Square'])>20, 'LifeSquare'] =(df.loc[(df['LifeSquare'] - df['Square'])>20, 'LifeSquare'])/10"
      ],
      "execution_count": 0,
      "outputs": []
    },
    {
      "metadata": {
        "id": "CepVA0FMW79S",
        "colab_type": "code",
        "colab": {}
      },
      "cell_type": "code",
      "source": [
        "# df.loc[df['Square'] < df['LifeSquare'], :]\n",
        "#  все еще дофига...."
      ],
      "execution_count": 0,
      "outputs": []
    },
    {
      "metadata": {
        "scrolled": false,
        "id": "XAEggDLcW79i",
        "colab_type": "code",
        "colab": {}
      },
      "cell_type": "code",
      "source": [
        "df.loc[df['Id'] == 14038]"
      ],
      "execution_count": 0,
      "outputs": []
    },
    {
      "metadata": {
        "id": "v5Eueyv9W79x",
        "colab_type": "code",
        "colab": {}
      },
      "cell_type": "code",
      "source": [
        "df.loc[df['Id'] == 15759, 'Floor'] = 18\n",
        "df.loc[df['Id'] == 10806, 'HouseFloor'] = 9\n",
        "df.loc[df['Id'] == 9300, 'HouseFloor'] = 9\n",
        "df.loc[df['Id'] == 78, 'HouseFloor'] = 17\n",
        "df.loc[df['Id'] == 15864, 'HouseFloor'] = 9"
      ],
      "execution_count": 0,
      "outputs": []
    },
    {
      "metadata": {
        "id": "TroaTc1kW792",
        "colab_type": "code",
        "colab": {}
      },
      "cell_type": "code",
      "source": [
        ""
      ],
      "execution_count": 0,
      "outputs": []
    },
    {
      "metadata": {
        "id": "8hNqeQ-TW797",
        "colab_type": "text"
      },
      "cell_type": "markdown",
      "source": [
        "### Теперь разберемся с годом постройки"
      ]
    },
    {
      "metadata": {
        "id": "5Db1LOt1W79-",
        "colab_type": "code",
        "colab": {}
      },
      "cell_type": "code",
      "source": [
        "df.loc[df['HouseYear']>2020]"
      ],
      "execution_count": 0,
      "outputs": []
    },
    {
      "metadata": {
        "id": "X32PLa7mW7-R",
        "colab_type": "code",
        "colab": {}
      },
      "cell_type": "code",
      "source": [
        "df.loc[df['Id'] == 10814, 'HouseYear'] = 2005\n",
        "df.loc[df['Id'] == 11607, 'HouseYear'] = 1968"
      ],
      "execution_count": 0,
      "outputs": []
    },
    {
      "metadata": {
        "id": "D9GiHfdTW7-s",
        "colab_type": "text"
      },
      "cell_type": "markdown",
      "source": [
        "### Теперь посмотрим на площадь кухни"
      ]
    },
    {
      "metadata": {
        "id": "92VsrKKgW7-u",
        "colab_type": "code",
        "colab": {}
      },
      "cell_type": "code",
      "source": [
        "df.describe()"
      ],
      "execution_count": 0,
      "outputs": []
    },
    {
      "metadata": {
        "id": "gmwR3eHNW7_H",
        "colab_type": "code",
        "colab": {}
      },
      "cell_type": "code",
      "source": [
        "df.loc[df['KitchenSquare']>100]"
      ],
      "execution_count": 0,
      "outputs": []
    },
    {
      "metadata": {
        "id": "sJIrYiQQW7_P",
        "colab_type": "code",
        "colab": {}
      },
      "cell_type": "code",
      "source": [
        "df.loc[df['Id'] == 14656, 'KitchenSquare'] = 10\n",
        "df.loc[df['Id'] == 7441, 'KitchenSquare'] = 20\n",
        "df.loc[df['Id'] == 2969, 'KitchenSquare'] = 15\n",
        "df.loc[df['Id'] == 12552, 'KitchenSquare'] = 15\n",
        "df.loc[df['Id'] == 14679, 'KitchenSquare'] = 7\n",
        "df.loc[df['Id'] == 2737, 'KitchenSquare'] = 20\n",
        "df.loc[df['Id'] == 3341, 'KitchenSquare'] = 20\n",
        "df.loc[df['Id'] == 14594, 'KitchenSquare'] = 8"
      ],
      "execution_count": 0,
      "outputs": []
    },
    {
      "metadata": {
        "id": "VEWKEp3bW7_V",
        "colab_type": "code",
        "colab": {}
      },
      "cell_type": "code",
      "source": [
        "df.loc[df['Id'] == 14038]"
      ],
      "execution_count": 0,
      "outputs": []
    },
    {
      "metadata": {
        "id": "Y5mC29p2W7_y",
        "colab_type": "text"
      },
      "cell_type": "markdown",
      "source": [
        "### Одиночные выбросы пофиксили"
      ]
    },
    {
      "metadata": {
        "id": "oGcldtGFW7_z",
        "colab_type": "text"
      },
      "cell_type": "markdown",
      "source": [
        "### Пока займемся жилой площадью"
      ]
    },
    {
      "metadata": {
        "id": "7hVylDuwW8AQ",
        "colab_type": "text"
      },
      "cell_type": "markdown",
      "source": [
        "Для начала разделим обратно"
      ]
    },
    {
      "metadata": {
        "id": "05xzIYR5W8AV",
        "colab_type": "code",
        "colab": {}
      },
      "cell_type": "code",
      "source": [
        "df = pd.get_dummies(df)"
      ],
      "execution_count": 0,
      "outputs": []
    },
    {
      "metadata": {
        "id": "4v4ZONIxW8Ak",
        "colab_type": "code",
        "colab": {}
      },
      "cell_type": "code",
      "source": [
        "train, test = df[:len(train)], df[len(train):]"
      ],
      "execution_count": 0,
      "outputs": []
    },
    {
      "metadata": {
        "id": "SrA5vI-UW8Ap",
        "colab_type": "code",
        "colab": {}
      },
      "cell_type": "code",
      "source": [
        "train.shape, test.shape"
      ],
      "execution_count": 0,
      "outputs": []
    },
    {
      "metadata": {
        "id": "nTO0F7AJW8A2",
        "colab_type": "code",
        "colab": {}
      },
      "cell_type": "code",
      "source": [
        "train.loc[train['Id'] == 14038]"
      ],
      "execution_count": 0,
      "outputs": []
    },
    {
      "metadata": {
        "scrolled": true,
        "id": "yHPl3m7AW8BB",
        "colab_type": "code",
        "colab": {}
      },
      "cell_type": "code",
      "source": [
        "train.isnull().sum()"
      ],
      "execution_count": 0,
      "outputs": []
    },
    {
      "metadata": {
        "scrolled": true,
        "id": "bEZY9jDnW8BN",
        "colab_type": "code",
        "colab": {}
      },
      "cell_type": "code",
      "source": [
        "test.isnull().sum()"
      ],
      "execution_count": 0,
      "outputs": []
    },
    {
      "metadata": {
        "id": "g2TamPYDW8BX",
        "colab_type": "text"
      },
      "cell_type": "markdown",
      "source": [
        "### Разбиваем на train valid"
      ]
    },
    {
      "metadata": {
        "id": "D7rSXHq9W8Ba",
        "colab_type": "code",
        "colab": {}
      },
      "cell_type": "code",
      "source": [
        "from sklearn.model_selection import train_test_split"
      ],
      "execution_count": 0,
      "outputs": []
    },
    {
      "metadata": {
        "id": "4IHpSn2_W8Bs",
        "colab_type": "code",
        "colab": {}
      },
      "cell_type": "code",
      "source": [
        "train, valid = train_test_split(train, test_size=0.2, random_state=80)"
      ],
      "execution_count": 0,
      "outputs": []
    },
    {
      "metadata": {
        "id": "L9a-c-CvW8B9",
        "colab_type": "code",
        "colab": {}
      },
      "cell_type": "code",
      "source": [
        "train.shape, valid.shape"
      ],
      "execution_count": 0,
      "outputs": []
    },
    {
      "metadata": {
        "id": "-8HaRIknW8CG",
        "colab_type": "code",
        "colab": {}
      },
      "cell_type": "code",
      "source": [
        "train.loc[train['Id'] == 14038]"
      ],
      "execution_count": 0,
      "outputs": []
    },
    {
      "metadata": {
        "id": "_-_id_r8W8CP",
        "colab_type": "code",
        "colab": {}
      },
      "cell_type": "code",
      "source": [
        "valid.loc[valid['Id'] == 14038]"
      ],
      "execution_count": 0,
      "outputs": []
    },
    {
      "metadata": {
        "id": "NBt2ZpeUW8CT",
        "colab_type": "text"
      },
      "cell_type": "markdown",
      "source": [
        "### Продолжаем обработку"
      ]
    },
    {
      "metadata": {
        "id": "O69QbeC7W8CU",
        "colab_type": "code",
        "colab": {}
      },
      "cell_type": "code",
      "source": [
        "def life_square(df):\n",
        "    df['LifeSquare'] = df['LifeSquare'].fillna(0)\n",
        "#     там где жилая площадь меньше 9,5 приравняем ее к общей площади минус кухня\n",
        "#     if df.loc[df['KitchenSquare']<40, :]:\n",
        "    df.loc[(df['LifeSquare'] < 9.5)&(df['KitchenSquare']<40), 'LifeSquare'] = (df.loc[df['LifeSquare']\n",
        "                                                      < 9.5, 'Square'] - df.loc[df['LifeSquare'] < 9.5, 'KitchenSquare'])\n",
        "    df.loc[df['LifeSquare']<9.5, 'LifeSquare'] = df.loc[df['LifeSquare']<9.5, 'Square']\n",
        "    return df"
      ],
      "execution_count": 0,
      "outputs": []
    },
    {
      "metadata": {
        "id": "vKLt4mX2W8CY",
        "colab_type": "code",
        "colab": {}
      },
      "cell_type": "code",
      "source": [
        ""
      ],
      "execution_count": 0,
      "outputs": []
    },
    {
      "metadata": {
        "id": "zmgmFEuvW8Cb",
        "colab_type": "text"
      },
      "cell_type": "markdown",
      "source": [
        "### Продолжаем с общей площадью"
      ]
    },
    {
      "metadata": {
        "id": "Vr4pFOrVW8Cd",
        "colab_type": "text"
      },
      "cell_type": "markdown",
      "source": [
        "поменяем местами значения столбцов, где жилая площадь больше общей"
      ]
    },
    {
      "metadata": {
        "id": "CmjIAmnaW8Ce",
        "colab_type": "code",
        "colab": {}
      },
      "cell_type": "code",
      "source": [
        "def square_change(df):\n",
        "    df1 = df.copy()\n",
        "    df2 = df.copy()\n",
        "    df1.loc[df1['Square'] < df1['LifeSquare'], 'Square'] = df1.loc[df1['Square'] < df1['LifeSquare'], 'LifeSquare']\n",
        "    df2.loc[df2['Square'] < df2['LifeSquare'], 'LifeSquare'] = df2.loc[df2['Square'] < df2['LifeSquare'], 'Square']\n",
        "    df['Square'] = df1['Square']\n",
        "    df['LifeSquare'] = df2['LifeSquare']\n",
        "    return df"
      ],
      "execution_count": 0,
      "outputs": []
    },
    {
      "metadata": {
        "id": "xVMW8223W8Ch",
        "colab_type": "text"
      },
      "cell_type": "markdown",
      "source": [
        "# можно еще посмотреть размер кухни от размера квартиры потом"
      ]
    },
    {
      "metadata": {
        "id": "3_yHYKgVW8Ci",
        "colab_type": "text"
      },
      "cell_type": "markdown",
      "source": [
        "### Этажности и этажи"
      ]
    },
    {
      "metadata": {
        "id": "zrDrAc13W8Ck",
        "colab_type": "code",
        "colab": {}
      },
      "cell_type": "code",
      "source": [
        "def floors(df):\n",
        "    df.loc[df['HouseFloor'] == 0, 'HouseFloor'] = df.loc[df['HouseFloor'] == 0, 'Floor'] #а пусть везде где этажность дома = 0 она будет равна высоте этажа на котором квартира\n",
        "    df.loc[df['Floor'] > df['HouseFloor'], 'Floor'] = df.loc[df['Floor'] > df['HouseFloor'], 'HouseFloor'] #пусть тогда этаж будет последний\n",
        "    return df"
      ],
      "execution_count": 0,
      "outputs": []
    },
    {
      "metadata": {
        "id": "IYxotCZkW8Co",
        "colab_type": "code",
        "colab": {}
      },
      "cell_type": "code",
      "source": [
        "def prepare_data(df):\n",
        "    df = life_square(df)\n",
        "    df = square_change(df)\n",
        "    df = floors(df)\n",
        "    return df"
      ],
      "execution_count": 0,
      "outputs": []
    },
    {
      "metadata": {
        "id": "YnW6F83QW8Cs",
        "colab_type": "text"
      },
      "cell_type": "markdown",
      "source": [
        "# Теперь займемся созданием новых признаков"
      ]
    },
    {
      "metadata": {
        "id": "A6OGmIVYW8Ct",
        "colab_type": "text"
      },
      "cell_type": "markdown",
      "source": [
        "Для начала разобьем районы по количеству квартир"
      ]
    },
    {
      "metadata": {
        "id": "uAOLI_FOW8Cv",
        "colab_type": "code",
        "colab": {}
      },
      "cell_type": "code",
      "source": [
        "def distr_size(df):\n",
        "    distr_size = df['DistrictId'].value_counts().reset_index()\n",
        "    distr_size.columns = ['DistrictId', 'count']\n",
        "    distr_size.loc[distr_size['count']>= 200, 'distr_class'] = 0\n",
        "    distr_size.loc[(distr_size['count']< 200) & (distr_size['count']>= 100), 'distr_class'] = 1\n",
        "    distr_size.loc[(distr_size['count']< 100) & (distr_size['count']>= 50), 'distr_class'] = 2\n",
        "    distr_size.loc[distr_size['count']< 50, 'distr_class'] = 3\n",
        "    distr_size['distr_class'].astype('int')\n",
        "    distr_size = distr_size.drop(['count'], axis = 1)\n",
        "    df = pd.merge(df, distr_size, on='DistrictId', how='left')\n",
        "    return df"
      ],
      "execution_count": 0,
      "outputs": []
    },
    {
      "metadata": {
        "id": "UXGz3lsmW8Cy",
        "colab_type": "text"
      },
      "cell_type": "markdown",
      "source": [
        "Теперь разобьем по средней цене за квадрат"
      ]
    },
    {
      "metadata": {
        "id": "sYYguN5zW8C1",
        "colab_type": "code",
        "colab": {}
      },
      "cell_type": "code",
      "source": [
        "distr_mean_price = train.groupby(['DistrictId'])['Price'].mean().reset_index()"
      ],
      "execution_count": 0,
      "outputs": []
    },
    {
      "metadata": {
        "id": "XT7FpiwZW8C3",
        "colab_type": "code",
        "colab": {}
      },
      "cell_type": "code",
      "source": [
        "distr_mean_price.columns = ['DistrictId', 'distr_mean_price']"
      ],
      "execution_count": 0,
      "outputs": []
    },
    {
      "metadata": {
        "id": "cNLJdExRW8C8",
        "colab_type": "text"
      },
      "cell_type": "markdown",
      "source": [
        "Теперь получим среднюю цену по районам, на тот случай, если в других датафреймах есть районы, которые остутствуют в трейне"
      ]
    },
    {
      "metadata": {
        "id": "LhEtPWrAW8C8",
        "colab_type": "code",
        "colab": {}
      },
      "cell_type": "code",
      "source": [
        "distr_price_average = distr_mean_price['distr_mean_price'].mean()"
      ],
      "execution_count": 0,
      "outputs": []
    },
    {
      "metadata": {
        "id": "WBMEDBFCW8DA",
        "colab_type": "code",
        "colab": {}
      },
      "cell_type": "code",
      "source": [
        "distr_price_average"
      ],
      "execution_count": 0,
      "outputs": []
    },
    {
      "metadata": {
        "id": "0faLNwEmW8DF",
        "colab_type": "code",
        "colab": {}
      },
      "cell_type": "code",
      "source": [
        "distr_mean_price.loc[distr_mean_price['distr_mean_price']>= 300000, 'distr_mean_class'] = 0\n",
        "distr_mean_price.loc[(distr_mean_price['distr_mean_price']< 300000) & (distr_mean_price['distr_mean_price']>= 250000), 'distr_mean_class'] = 1\n",
        "distr_mean_price.loc[(distr_mean_price['distr_mean_price']< 250000) & (distr_mean_price['distr_mean_price']>= 200000), 'distr_mean_class'] = 2\n",
        "distr_mean_price.loc[distr_mean_price['distr_mean_price']< 200000, 'distr_mean_class'] = 3"
      ],
      "execution_count": 0,
      "outputs": []
    },
    {
      "metadata": {
        "id": "aIHhINpaW8DH",
        "colab_type": "code",
        "colab": {}
      },
      "cell_type": "code",
      "source": [
        "def distr_average(df, distr_mean_price=distr_mean_price, distr_price_average=distr_price_average):\n",
        "    df = pd.merge(df, distr_mean_price, on='DistrictId', how='left')\n",
        "    df['distr_mean_price'] = df['distr_mean_price'].fillna(distr_price_average)\n",
        "    df['distr_mean_class'] = df['distr_mean_class'].fillna(1)\n",
        "    return df\n",
        "    "
      ],
      "execution_count": 0,
      "outputs": []
    },
    {
      "metadata": {
        "id": "as5R1T6ZW8DK",
        "colab_type": "text"
      },
      "cell_type": "markdown",
      "source": [
        "Теперь разобъем на классы по Ecology_1"
      ]
    },
    {
      "metadata": {
        "id": "A14GvGEdW8DL",
        "colab_type": "code",
        "colab": {}
      },
      "cell_type": "code",
      "source": [
        "ecology_1_mean = train.groupby(['DistrictId'])['Ecology_1'].mean(\n",
        ").reset_index().rename(columns={'Ecology_1': 'Ecology_1_mean'})"
      ],
      "execution_count": 0,
      "outputs": []
    },
    {
      "metadata": {
        "id": "Ca2wY_RnW8DO",
        "colab_type": "code",
        "colab": {}
      },
      "cell_type": "code",
      "source": [
        "ecology_1_mean_av = ecology_1_mean['Ecology_1_mean'].mean()"
      ],
      "execution_count": 0,
      "outputs": []
    },
    {
      "metadata": {
        "scrolled": true,
        "id": "P_mZ1MgfW8DR",
        "colab_type": "code",
        "colab": {}
      },
      "cell_type": "code",
      "source": [
        "ecology_1_mean.head()"
      ],
      "execution_count": 0,
      "outputs": []
    },
    {
      "metadata": {
        "id": "SBYNC3MEW8DV",
        "colab_type": "code",
        "colab": {}
      },
      "cell_type": "code",
      "source": [
        "def ecology_class(df, ecology_1_mean = ecology_1_mean, ecology_1_mean_av=ecology_1_mean_av):\n",
        "    df.loc[df['Ecology_1'] >= 0.2, 'Ecology_1_class'] = 0\n",
        "    df.loc[df['Ecology_1'] < 0.2, 'Ecology_1_class'] = 1\n",
        "    df = pd.merge(df, ecology_1_mean, on='DistrictId', how='left')\n",
        "    df['Ecology_1_mean'] = df['Ecology_1_mean'].fillna(ecology_1_mean_av)\n",
        "    return df"
      ],
      "execution_count": 0,
      "outputs": []
    },
    {
      "metadata": {
        "id": "wRtWXID2W8DY",
        "colab_type": "code",
        "colab": {}
      },
      "cell_type": "code",
      "source": [
        "def prepare_features(df, ecology_1_mean=ecology_1_mean, distr_mean_price=distr_mean_price, distr_price_average=distr_price_average):\n",
        "    df = distr_size(df)\n",
        "    df = distr_average(df)\n",
        "    df = ecology_class(df)\n",
        "    return df"
      ],
      "execution_count": 0,
      "outputs": []
    },
    {
      "metadata": {
        "id": "HrOLPYJ6W8DZ",
        "colab_type": "text"
      },
      "cell_type": "markdown",
      "source": [
        "# Ну начнем преобразования и построим модель"
      ]
    },
    {
      "metadata": {
        "id": "f1kT3xKxW8Db",
        "colab_type": "code",
        "colab": {}
      },
      "cell_type": "code",
      "source": [
        "feats = list(train)"
      ],
      "execution_count": 0,
      "outputs": []
    },
    {
      "metadata": {
        "id": "sFzsdXElW8Dd",
        "colab_type": "code",
        "colab": {}
      },
      "cell_type": "code",
      "source": [
        "train = prepare_data(train)"
      ],
      "execution_count": 0,
      "outputs": []
    },
    {
      "metadata": {
        "id": "v0hieIj5W8Df",
        "colab_type": "code",
        "colab": {}
      },
      "cell_type": "code",
      "source": [
        "train = prepare_features(train)"
      ],
      "execution_count": 0,
      "outputs": []
    },
    {
      "metadata": {
        "id": "FY1ssVhUW8Dj",
        "colab_type": "code",
        "colab": {}
      },
      "cell_type": "code",
      "source": [
        "valid = prepare_data(valid)"
      ],
      "execution_count": 0,
      "outputs": []
    },
    {
      "metadata": {
        "id": "-8lAmpHAW8Do",
        "colab_type": "code",
        "colab": {}
      },
      "cell_type": "code",
      "source": [
        "valid = prepare_features(valid)"
      ],
      "execution_count": 0,
      "outputs": []
    },
    {
      "metadata": {
        "id": "RSK2jng3W8Ds",
        "colab_type": "code",
        "colab": {}
      },
      "cell_type": "code",
      "source": [
        "valid.head()"
      ],
      "execution_count": 0,
      "outputs": []
    },
    {
      "metadata": {
        "id": "dCfESzJLW8Dw",
        "colab_type": "code",
        "colab": {}
      },
      "cell_type": "code",
      "source": [
        "from sklearn.linear_model import LinearRegression\n",
        "from sklearn.ensemble import RandomForestRegressor\n",
        "from sklearn.metrics import r2_score as r2\n",
        "from sklearn.model_selection import GridSearchCV"
      ],
      "execution_count": 0,
      "outputs": []
    },
    {
      "metadata": {
        "id": "ARF25qVfW8D0",
        "colab_type": "code",
        "colab": {}
      },
      "cell_type": "code",
      "source": [
        "def Grid_Search_CV_RFR(X_train, y_train):\n",
        "    estimator = RandomForestRegressor()\n",
        "    param_grid = {\n",
        "        \"n_estimators\": [5,10,20,50,100],\n",
        "        \"max_features\": [\"auto\", \"sqrt\", \"log2\"],\n",
        "        \"min_samples_split\": [2, 4, 8],\n",
        "        \"bootstrap\": [True, False],\n",
        "       }\n",
        "\n",
        "    grid = GridSearchCV(estimator, param_grid, n_jobs=-1, cv=5)\n",
        "\n",
        "    grid.fit(X_train, y_train)\n",
        "\n",
        "    return grid.best_params_"
      ],
      "execution_count": 0,
      "outputs": []
    },
    {
      "metadata": {
        "id": "pTBkf2s5W8D2",
        "colab_type": "code",
        "colab": {}
      },
      "cell_type": "code",
      "source": [
        "# best_params = Grid_Search_CV_RFR(X_train, y_train.values[:, 0])"
      ],
      "execution_count": 0,
      "outputs": []
    },
    {
      "metadata": {
        "id": "uRH8rJfDW8D6",
        "colab_type": "code",
        "colab": {}
      },
      "cell_type": "code",
      "source": [
        "# best_params"
      ],
      "execution_count": 0,
      "outputs": []
    },
    {
      "metadata": {
        "id": "EphFu_XxW8D9",
        "colab_type": "code",
        "colab": {}
      },
      "cell_type": "code",
      "source": [
        "feats = ['Id',\n",
        " 'DistrictId',\n",
        " 'Rooms',\n",
        " 'Square',\n",
        " 'LifeSquare',\n",
        " 'KitchenSquare',\n",
        " 'Floor',\n",
        " 'HouseFloor',\n",
        " 'HouseYear',\n",
        " 'Ecology_1',\n",
        " 'Social_1',\n",
        " 'Social_2',\n",
        " 'Social_3',\n",
        " 'Helthcare_2',\n",
        " 'Shops_1',\n",
        " 'Ecology_2_A',\n",
        " 'Ecology_2_B',\n",
        " 'Ecology_3_A',\n",
        " 'Ecology_3_B',\n",
        " 'Shops_2_A',\n",
        " 'Shops_2_B',\n",
        " 'distr_class',\n",
        " 'distr_mean_price',\n",
        " 'distr_mean_class',\n",
        " 'Ecology_1_class',\n",
        " 'Ecology_1_mean']"
      ],
      "execution_count": 0,
      "outputs": []
    },
    {
      "metadata": {
        "id": "LRwetTdeW8EB",
        "colab_type": "code",
        "colab": {}
      },
      "cell_type": "code",
      "source": [
        "feats = ['Square',\n",
        " 'distr_mean_price',\n",
        " 'HouseYear',\n",
        " 'Social_3',\n",
        " 'HouseFloor',\n",
        " 'Social_2',\n",
        " 'Id',\n",
        " 'DistrictId',\n",
        " 'Floor',\n",
        " 'Ecology_3_B',\n",
        " 'KitchenSquare',\n",
        " 'LifeSquare',\n",
        " 'Ecology_1_class',\n",
        " 'Ecology_1',\n",
        " 'distr_mean_class',\n",
        " 'Ecology_1_mean']"
      ],
      "execution_count": 0,
      "outputs": []
    },
    {
      "metadata": {
        "id": "-gMqB3nFW8EF",
        "colab_type": "code",
        "colab": {}
      },
      "cell_type": "code",
      "source": [
        "estimator = RandomForestRegressor()"
      ],
      "execution_count": 0,
      "outputs": []
    },
    {
      "metadata": {
        "id": "H7ZRVDWGW8EH",
        "colab_type": "code",
        "colab": {}
      },
      "cell_type": "code",
      "source": [
        "best_params = {'bootstrap': True,\n",
        " 'max_features': 'sqrt',\n",
        " 'min_samples_split': 4,\n",
        " 'n_estimators': 1000}"
      ],
      "execution_count": 0,
      "outputs": []
    },
    {
      "metadata": {
        "id": "qXx2kZUtW8EL",
        "colab_type": "code",
        "colab": {}
      },
      "cell_type": "code",
      "source": [
        "estimator = RandomForestRegressor(n_jobs=-1).set_params(**best_params)\n",
        "estimator.fit(train.loc[:, feats], train['Price'])"
      ],
      "execution_count": 0,
      "outputs": []
    },
    {
      "metadata": {
        "id": "lAGTIk8OW8ER",
        "colab_type": "code",
        "colab": {}
      },
      "cell_type": "code",
      "source": [
        "def get_prediction(model, df, feats=feats, evaluate='Yes'):\n",
        "    pred = model.predict(df.loc[:, feats])\n",
        "    if evaluate == 'Yes':\n",
        "        r2_value = r2(df['Price'],pred)\n",
        "        print('R2 = {}'.format(r2_value))\n",
        "    return pred"
      ],
      "execution_count": 0,
      "outputs": []
    },
    {
      "metadata": {
        "id": "MVfOzT3MW8EU",
        "colab_type": "code",
        "colab": {}
      },
      "cell_type": "code",
      "source": [
        "pred_train = get_prediction(model=estimator, df = train)"
      ],
      "execution_count": 0,
      "outputs": []
    },
    {
      "metadata": {
        "id": "L50kiHNoW8Ea",
        "colab_type": "code",
        "colab": {}
      },
      "cell_type": "code",
      "source": [
        "pred_valid = get_prediction(model=estimator, df = valid)"
      ],
      "execution_count": 0,
      "outputs": []
    },
    {
      "metadata": {
        "id": "L2Rdgz09W8Ef",
        "colab_type": "text"
      },
      "cell_type": "markdown",
      "source": [
        "### Test"
      ]
    },
    {
      "metadata": {
        "id": "2qpzsShoW8Eh",
        "colab_type": "code",
        "colab": {}
      },
      "cell_type": "code",
      "source": [
        "test.shape"
      ],
      "execution_count": 0,
      "outputs": []
    },
    {
      "metadata": {
        "id": "VCcWaty7W8En",
        "colab_type": "code",
        "colab": {}
      },
      "cell_type": "code",
      "source": [
        "test = prepare_data(test)"
      ],
      "execution_count": 0,
      "outputs": []
    },
    {
      "metadata": {
        "id": "akvHTSKbW8Es",
        "colab_type": "code",
        "colab": {}
      },
      "cell_type": "code",
      "source": [
        "test = prepare_features(test)"
      ],
      "execution_count": 0,
      "outputs": []
    },
    {
      "metadata": {
        "id": "ng2hWN-BW8Ex",
        "colab_type": "code",
        "colab": {}
      },
      "cell_type": "code",
      "source": [
        "test = test.drop(['Price'], axis=1)"
      ],
      "execution_count": 0,
      "outputs": []
    },
    {
      "metadata": {
        "id": "EIhpZrxXW8E1",
        "colab_type": "code",
        "colab": {}
      },
      "cell_type": "code",
      "source": [
        "test.info()"
      ],
      "execution_count": 0,
      "outputs": []
    },
    {
      "metadata": {
        "id": "mOhgUdR5W8FA",
        "colab_type": "code",
        "colab": {}
      },
      "cell_type": "code",
      "source": [
        "test['Price'] = get_prediction(estimator, test, evaluate='No')"
      ],
      "execution_count": 0,
      "outputs": []
    },
    {
      "metadata": {
        "id": "KlE3zjZCW8FL",
        "colab_type": "code",
        "colab": {}
      },
      "cell_type": "code",
      "source": [
        "test['Price'].describe()"
      ],
      "execution_count": 0,
      "outputs": []
    },
    {
      "metadata": {
        "id": "NgTPN-yzW8FU",
        "colab_type": "code",
        "colab": {}
      },
      "cell_type": "code",
      "source": [
        "test.loc[:,['Id', 'Price']].to_csv('SSaschenko_predictions.csv', index=False)"
      ],
      "execution_count": 0,
      "outputs": []
    },
    {
      "metadata": {
        "id": "_XAHpe-vaBxs",
        "colab_type": "code",
        "colab": {}
      },
      "cell_type": "code",
      "source": [
        "!ls"
      ],
      "execution_count": 0,
      "outputs": []
    }
  ]
}